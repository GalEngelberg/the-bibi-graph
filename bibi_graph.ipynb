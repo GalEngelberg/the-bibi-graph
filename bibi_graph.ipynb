{
 "cells": [
  {
   "attachments": {},
   "cell_type": "markdown",
   "id": "3358c707",
   "metadata": {},
   "source": [
    "# The Bibi Graph\n",
    "## A social network analysis of leaders' autobiography <BR> via NER,language models, and graph algorithms\n",
    "### Gal Engelberg <BR> January, 2023"
   ]
  },
  {
   "cell_type": "markdown",
   "id": "e53d8cea",
   "metadata": {},
   "source": [
    "# 1. Set up the neo4j environment & create the graph\n",
    "Please assign the following variables:<br>\n",
    "1. DB_URL for Neo4J bolt connection<br>\n",
    "2. USER<br>\n",
    "3. PASSWORD<br>\n",
    "4. GRAPH_CREATE_CYPHER_PATH for create_graph.cypher path<br>\n",
    "\n",
    "** You might need to increase the heap size in Neo4J configuration:<br>\n",
    "1. dbms.memory.heap.initial_size=1G<br>\n",
    "2. dbms.memory.heap.max_size=16G<br>\n",
    "\n",
    "** Requirements:<br>\n",
    "1. python packages: pandas, py2neo<br>\n",
    "2. Neo4J instance version 4.4.11 Graph Data Science (GDS) Library version 2.1.12 "
   ]
  },
  {
   "cell_type": "code",
   "execution_count": 1,
   "id": "600d5389",
   "metadata": {},
   "outputs": [],
   "source": [
    "DB_URL = \"bolt://localhost:7687\"\n",
    "USER = ,
    "PASSWORD = ,
    "GRAPH_CREATE_CYPHER_PATH ="
   ]
  },
  {
   "cell_type": "code",
   "execution_count": 2,
   "id": "2e80f5ad",
   "metadata": {},
   "outputs": [
    {
     "name": "stdout",
     "output_type": "stream",
     "text": [
      "done...\n"
     ]
    }
   ],
   "source": [
    "import pandas as pd\n",
    "from py2neo import Graph,Node,Relationship\n",
    "graph = Graph(DB_URL, auth=(USER, PASSWORD))\n",
    "\n",
    "def run_query_from_file(file_name: str):\n",
    "    try:\n",
    "        query = ' '.join(\n",
    "            open(file_name).readlines()).replace('\\n', '')\n",
    "        subqueries = query.split(';')\n",
    "        results = []\n",
    "        for subquery in subqueries:\n",
    "            result = graph.run(subquery)\n",
    "            results.append(result)\n",
    "        print(\"done...\")    \n",
    "    except:\n",
    "        print(e)\n",
    "        \n",
    "run_query_from_file(GRAPH_CREATE_CYPHER_PATH)"
   ]
  },
  {
   "cell_type": "markdown",
   "id": "1e994326",
   "metadata": {},
   "source": [
    "Now, after the graph is up, and holds data, we create two sub-graph projections for the graph algorithms usage: <br>\n",
    "1. Persons and events subgraph with the following objects: (PERSON)-[CO_OCCUR_WITH]-(EVENT) <br>\n",
    "2. Persons, chapters, and events subgraph with the following objects: (PERSON:EVENT)-[MENTIONED_IN]->(CHAPTER)"
   ]
  },
  {
   "cell_type": "code",
   "execution_count": 3,
   "id": "5e86201b",
   "metadata": {},
   "outputs": [
    {
     "data": {
      "text/html": [
       "<table><tr><th>nodeProjection</th><th>relationshipProjection</th><th>graphName</th><th>nodeCount</th><th>relationshipCount</th><th>projectMillis</th></tr><tr><td style=\"text-align:left\">{PERSON: {label: &#039;PERSON&#039;, properties: {}}, CHAPTER: {label: &#039;CHAPTER&#039;, properties: {}}, EVENT: {label: &#039;EVENT&#039;, properties: {}}}</td><td style=\"text-align:left\">{MENTIONED_IN: {orientation: &#039;NATURAL&#039;, aggregation: &#039;DEFAULT&#039;, type: &#039;MENTIONED_IN&#039;, properties: {count: {defaultValue: null, property: &#039;count&#039;, aggregation: &#039;DEFAULT&#039;}}}}</td><td style=\"text-align:left\">persons_events_chapters</td><td style=\"text-align:right\">770</td><td style=\"text-align:right\">1590</td><td style=\"text-align:right\">7</td></tr></table>"
      ],
      "text/plain": [
       " nodeProjection                                                                                                                    | relationshipProjection                                                                                                                                                       | graphName               | nodeCount | relationshipCount | projectMillis \n",
       "-----------------------------------------------------------------------------------------------------------------------------------|------------------------------------------------------------------------------------------------------------------------------------------------------------------------------|-------------------------|-----------|-------------------|---------------\n",
       " {PERSON: {label: 'PERSON', properties: {}}, CHAPTER: {label: 'CHAPTER', properties: {}}, EVENT: {label: 'EVENT', properties: {}}} | {MENTIONED_IN: {orientation: 'NATURAL', aggregation: 'DEFAULT', type: 'MENTIONED_IN', properties: {count: {defaultValue: null, property: 'count', aggregation: 'DEFAULT'}}}} | persons_events_chapters |       770 |              1590 |             7 "
      ]
     },
     "execution_count": 3,
     "metadata": {},
     "output_type": "execute_result"
    }
   ],
   "source": [
    "# Create graph projections for graph analytics\n",
    "\n",
    "# Persons-[co_occur_with]-events graph projection\n",
    "persons_events = \"\"\"CALL gds.graph.project(\n",
    "  'persons_events',\n",
    "  ['PERSON','EVENT'],\n",
    "  'CO_OCCUR_WITH',\n",
    "  {\n",
    "    relationshipProperties: 'count'\n",
    "  }\n",
    ");\"\"\"\n",
    "\n",
    "# Persons-chapters-events graph projection\n",
    "persons_chapters_events = \"\"\"CALL gds.graph.project(\n",
    "  'persons_events_chapters',\n",
    "  ['PERSON','EVENT','CHAPTER'],\n",
    "  'MENTIONED_IN',\n",
    "  {\n",
    "    relationshipProperties: 'count'\n",
    "  }\n",
    ");\"\"\"\n",
    "\n",
    "graph.run(persons_events)\n",
    "graph.run(persons_chapters_events)"
   ]
  },
  {
   "cell_type": "markdown",
   "id": "1ceda8e7",
   "metadata": {},
   "source": [
    "# 2. Graph Statistics"
   ]
  },
  {
   "cell_type": "code",
   "execution_count": 4,
   "id": "1481e357",
   "metadata": {},
   "outputs": [
    {
     "name": "stdout",
     "output_type": "stream",
     "text": [
      " number_of_persons \r\n",
      "-------------------\r\n",
      "               635 \r\n",
      "\n"
     ]
    }
   ],
   "source": [
    "# Number of persons\n",
    "query = \"MATCH (n:PERSON) return count(distinct n) as number_of_persons\"\n",
    "print(graph.run(query))"
   ]
  },
  {
   "cell_type": "code",
   "execution_count": 5,
   "id": "a08063fa",
   "metadata": {},
   "outputs": [
    {
     "name": "stdout",
     "output_type": "stream",
     "text": [
      " number_of_events \r\n",
      "------------------\r\n",
      "               66 \r\n",
      "\n"
     ]
    }
   ],
   "source": [
    "# Number of Events\n",
    "query = \"MATCH (n:EVENT) return count(distinct n) as number_of_events\"\n",
    "print(graph.run(query))"
   ]
  },
  {
   "cell_type": "code",
   "execution_count": 6,
   "id": "9bbf44f7",
   "metadata": {},
   "outputs": [
    {
     "name": "stdout",
     "output_type": "stream",
     "text": [
      " number_of_mentioned_in_edges \r\n",
      "------------------------------\r\n",
      "                         1590 \r\n",
      "\n"
     ]
    }
   ],
   "source": [
    "# Number of MENTIONED_IN edges\n",
    "query = \"MATCH ()-[r:MENTIONED_IN]-() return count(distinct r) as number_of_mentioned_in_edges\"\n",
    "print(graph.run(query))"
   ]
  },
  {
   "cell_type": "code",
   "execution_count": 7,
   "id": "63702e39",
   "metadata": {},
   "outputs": [
    {
     "name": "stdout",
     "output_type": "stream",
     "text": [
      " number_of_CO_OCCUR_WITH_edges \r\n",
      "-------------------------------\r\n",
      "                         39146 \r\n",
      "\n"
     ]
    }
   ],
   "source": [
    "# Number of CO_OCCUR_WITH edges\n",
    "query = \"MATCH ()-[r:CO_OCCUR_WITH]-() return count(distinct r) as number_of_CO_OCCUR_WITH_edges\"\n",
    "print(graph.run(query))"
   ]
  },
  {
   "cell_type": "code",
   "execution_count": 8,
   "id": "19cfe185",
   "metadata": {},
   "outputs": [
    {
     "name": "stdout",
     "output_type": "stream",
     "text": [
      " diameter \r\n",
      "----------\r\n",
      "        4 \r\n",
      "\n"
     ]
    }
   ],
   "source": [
    "# Network diameter\n",
    "query = \"\"\"MATCH (n)\n",
    "            WITH collect(n) AS nodes\n",
    "            UNWIND nodes AS a\n",
    "            UNWIND nodes AS b\n",
    "            WITH a, b\n",
    "            WHERE id(a) < id(b)\n",
    "            MATCH path=shortestPath((a)-[*]-(b))\n",
    "            RETURN length(path) AS diameter\n",
    "            ORDER BY diameter\n",
    "            DESC LIMIT 1\"\"\"\n",
    "print(graph.run(query))"
   ]
  },
  {
   "cell_type": "code",
   "execution_count": 9,
   "id": "433a2285",
   "metadata": {},
   "outputs": [
    {
     "name": "stdout",
     "output_type": "stream",
     "text": [
      "Degree Distribution: \n",
      "                    name  followers\n",
      "0         Yoni Netanyahu      509.0\n",
      "1            World War I      384.0\n",
      "2           SHIMON PERES      383.0\n",
      "3         Sara Netanyahu      374.0\n",
      "4          Yitzhak Rabin      371.0\n",
      "..                   ...        ...\n",
      "696  Ithiel de Sola Pool        4.0\n",
      "697          David Klein        4.0\n",
      "698        Yitzhak Navon        0.0\n",
      "699        Meir Har Zion        0.0\n",
      "700            Danny Mat        0.0\n",
      "\n",
      "[701 rows x 2 columns]\n",
      "Weighted Degree Distribution: \n",
      "                    name  weightedFollowers\n",
      "0         Yoni Netanyahu              941.0\n",
      "1         Sara Netanyahu              720.0\n",
      "2           SHIMON PERES              643.0\n",
      "3          Yitzhak Rabin              625.0\n",
      "4            World War I              612.0\n",
      "..                   ...                ...\n",
      "696  Ithiel de Sola Pool                4.0\n",
      "697          David Klein                4.0\n",
      "698        Yitzhak Navon                0.0\n",
      "699        Meir Har Zion                0.0\n",
      "700            Danny Mat                0.0\n",
      "\n",
      "[701 rows x 2 columns]\n",
      "Max degree: 509.0\n",
      "Min degree: 0.0\n",
      "Average degree: 55.84308131241084\n"
     ]
    }
   ],
   "source": [
    "# Degree distribution\n",
    "query_degree = \"\"\"CALL gds.degree.stream('persons_events')\n",
    "            YIELD nodeId, score\n",
    "            RETURN gds.util.asNode(nodeId).name AS name, score AS followers\n",
    "            ORDER BY followers DESC, name DESC\"\"\"\n",
    "df = graph.run(query_degree).to_data_frame()\n",
    "\n",
    "query_weighted_degree = \"\"\"CALL gds.degree.stream(\n",
    "   'persons_events',\n",
    "   { relationshipWeightProperty: 'count' }\n",
    ")\n",
    "YIELD nodeId, score\n",
    "RETURN gds.util.asNode(nodeId).name AS name, score AS weightedFollowers\n",
    "ORDER BY weightedFollowers DESC, name DESC\"\"\"\n",
    "\n",
    "df1 = graph.run(query_weighted_degree).to_data_frame()\n",
    "\n",
    "print(f\"Degree Distribution: \\n{df}\")\n",
    "\n",
    "print(f\"Weighted Degree Distribution: \\n{df1}\")\n",
    "\n",
    "# max degree\n",
    "print(f\"Max degree: {df['followers'].max()}\")\n",
    "\n",
    "# min degree\n",
    "print(f\"Min degree: {df['followers'].min()}\")\n",
    "\n",
    "# average degree\n",
    "print(f\"Average degree: {df['followers'].mean()}\")"
   ]
  },
  {
   "attachments": {},
   "cell_type": "markdown",
   "id": "809fcdba",
   "metadata": {},
   "source": [
    "# 3. What are the cardinal persons according to the writer?"
   ]
  },
  {
   "cell_type": "code",
   "execution_count": 10,
   "id": "8a758853",
   "metadata": {},
   "outputs": [
    {
     "name": "stdout",
     "output_type": "stream",
     "text": [
      "Cardinal persons (page rank): \n",
      "\n",
      "               name      score\n",
      "0    Yoni Netanyahu  11.926900\n",
      "1    Sara Netanyahu   9.362623\n",
      "2      SHIMON PERES   7.811885\n",
      "3     Yitzhak Rabin   7.589419\n",
      "4      Ariel Sharon   7.262936\n",
      "..              ...        ...\n",
      "630     David Klein   0.231362\n",
      "631       Nir Gilad   0.231362\n",
      "632       Danny Mat   0.150000\n",
      "633   Meir Har Zion   0.150000\n",
      "634   Yitzhak Navon   0.150000\n",
      "\n",
      "[635 rows x 2 columns]\n",
      "\n",
      "Cardinal persons (betweeness): \n",
      "\n",
      "                  name         score\n",
      "0       Yoni Netanyahu  55002.528106\n",
      "1       Sara Netanyahu  32617.093969\n",
      "2         SHIMON PERES  20743.601200\n",
      "3         Ariel Sharon  20346.539494\n",
      "4    Benzion Netanyahu  18771.662053\n",
      "..                 ...           ...\n",
      "630        Zohar Linik      0.000000\n",
      "631          Zvi Marom      0.000000\n",
      "632  [Pinchas] Bukhris      0.000000\n",
      "633         alte kaker      0.000000\n",
      "634     the Vilna Gaon      0.000000\n",
      "\n",
      "[635 rows x 2 columns]\n",
      "\n"
     ]
    }
   ],
   "source": [
    "# Page rank\n",
    "query = \"\"\"CALL gds.pageRank.stream('persons_events', {\n",
    "  maxIterations: 20,\n",
    "  dampingFactor: 0.85,\n",
    "  relationshipWeightProperty: 'count'\n",
    "})\n",
    "YIELD nodeId, score\n",
    "with labels(gds.util.asNode(nodeId)) as label, gds.util.asNode(nodeId).name AS name, score\n",
    "where 'PERSON' in label\n",
    "RETURN name, score\n",
    "ORDER BY score DESC, name ASC;\"\"\"\n",
    "pr = graph.run(query).to_data_frame()\n",
    "\n",
    "# Betweeness\n",
    "query = \"\"\"CALL gds.betweenness.stream('persons_events')\n",
    "YIELD nodeId, score\n",
    "with labels(gds.util.asNode(nodeId)) as label, gds.util.asNode(nodeId).name AS name, score\n",
    "where 'PERSON' in label\n",
    "RETURN name, score\n",
    "ORDER BY score DESC, name ASC;\"\"\"\n",
    "bt = graph.run(query).to_data_frame()\n",
    "\n",
    "print(f\"Cardinal persons (page rank): \\n\\n{pr}\\n\")\n",
    "\n",
    "print(f\"Cardinal persons (betweeness): \\n\\n{bt}\\n\")"
   ]
  },
  {
   "cell_type": "markdown",
   "id": "e73adc2d",
   "metadata": {},
   "source": [
    "# 4. What are the cardinal events according to the writer?"
   ]
  },
  {
   "cell_type": "code",
   "execution_count": 11,
   "id": "c7469562",
   "metadata": {},
   "outputs": [
    {
     "name": "stdout",
     "output_type": "stream",
     "text": [
      "Cardinal events (page rank): \n",
      "\n",
      "                         name     score\n",
      "0                 World War I  7.600361\n",
      "1                   Holocaust  6.860771\n",
      "2             the Six-Day War  5.884391\n",
      "3   War of Independence (1948  3.914277\n",
      "4          The Yom Kippur War  3.573891\n",
      "..                        ...       ...\n",
      "61                Bar Mitzvah  0.340232\n",
      "62    the Rothschild protests  0.325040\n",
      "63       the Meal Tray Affair  0.319427\n",
      "64            Black September  0.297298\n",
      "65                  World Cup  0.253160\n",
      "\n",
      "[66 rows x 2 columns]\n",
      "\n",
      "Cardinal events (betweeness): \n",
      "\n",
      "                            name         score\n",
      "0                    World War I  24196.605309\n",
      "1                      Holocaust  21476.883705\n",
      "2                the Six-Day War  15710.900859\n",
      "3             The Yom Kippur War   7062.705208\n",
      "4      War of Independence (1948   5586.188703\n",
      "..                           ...           ...\n",
      "61       the Spanish Inquisition      0.000000\n",
      "62                the Tunnel War      0.000000\n",
      "63      the World Economic Forum      0.000000\n",
      "64          the Yalta Conference      0.000000\n",
      "65  the Zionist Congress of 1905      0.000000\n",
      "\n",
      "[66 rows x 2 columns]\n",
      "\n"
     ]
    }
   ],
   "source": [
    "# Page rank\n",
    "query = \"\"\"CALL gds.pageRank.stream('persons_events', {\n",
    "  maxIterations: 20,\n",
    "  dampingFactor: 0.85,\n",
    "  relationshipWeightProperty: 'count'\n",
    "})\n",
    "YIELD nodeId, score\n",
    "with labels(gds.util.asNode(nodeId)) as label, gds.util.asNode(nodeId).name AS name, score\n",
    "where 'EVENT' in label\n",
    "RETURN name, score\n",
    "ORDER BY score DESC, name ASC;\"\"\"\n",
    "pr = graph.run(query).to_data_frame()\n",
    "\n",
    "# Betweeness\n",
    "query = \"\"\"CALL gds.betweenness.stream('persons_events')\n",
    "YIELD nodeId, score\n",
    "with labels(gds.util.asNode(nodeId)) as label, gds.util.asNode(nodeId).name AS name, score\n",
    "where 'EVENT' in label\n",
    "RETURN name, score\n",
    "ORDER BY score DESC, name ASC;\"\"\"\n",
    "bt = graph.run(query).to_data_frame()\n",
    "\n",
    "print(f\"Cardinal events (page rank): \\n\\n{pr}\\n\")\n",
    "\n",
    "print(f\"Cardinal events (betweeness): \\n\\n{bt}\\n\")"
   ]
  },
  {
   "attachments": {},
   "cell_type": "markdown",
   "id": "abd98dff",
   "metadata": {},
   "source": [
    "# 5. Can we discover meaningful communities in the graph?"
   ]
  },
  {
   "cell_type": "markdown",
   "id": "72ff73dd",
   "metadata": {},
   "source": [
    "Here, we extract communities from the graph using Louvain algorithm. We analyze the modularity of the network. Then We present each community with extra information as follows: # of entities within the community, % of total, average page rank of the entities within the community, and a list of top 25 entities within each community."
   ]
  },
  {
   "cell_type": "code",
   "execution_count": 16,
   "id": "9cd1a4f8",
   "metadata": {},
   "outputs": [
    {
     "name": "stdout",
     "output_type": "stream",
     "text": [
      "Modularity: \n",
      "\n",
      "          modularity \r\n",
      "--------------------\r\n",
      " 0.3850515589008596 \r\n",
      "\n",
      "                score                                         top25names  \\\n",
      "communityId                                                                \n",
      "51           1.587794  [Zeev Jabotinsky, Ben Gurion.1, War of Indepen...   \n",
      "189          1.083686  [Yitzhak Rabin, Menachem Begin, Margaret Thatc...   \n",
      "374          1.030944  [SHIMON PERES, Yasser Arafat, Ehud Barak, Bill...   \n",
      "119          0.900183  [Benjamin Netanyahu, The Yom Kippur War, Yoav ...   \n",
      "306          0.899823  [Sara Netanyahu, Benzion Netanyahu, Holocaust,...   \n",
      "489          0.765688  [Yoni Netanyahu, World War I, the Six-Day War,...   \n",
      "111          0.726566  [Ariel Sharon, Spencer Partrich, Second Intifa...   \n",
      "98           0.401430  [Mahatma Gandhi, Deng Xiaoping, Jair Bolsonaro...   \n",
      "197          0.150000                                    [Yitzhak Navon]   \n",
      "364          0.150000                                        [Danny Mat]   \n",
      "610          0.150000                                    [Meir Har Zion]   \n",
      "\n",
      "             name_count  percent_of_total  average_score  \n",
      "communityId                                               \n",
      "51                   63          0.089872       1.587794  \n",
      "189                  64          0.091298       1.083686  \n",
      "374                 127          0.181170       1.030944  \n",
      "119                  57          0.081312       0.900183  \n",
      "306                 203          0.289586       0.899823  \n",
      "489                 134          0.191155       0.765688  \n",
      "111                  43          0.061341       0.726566  \n",
      "98                    7          0.009986       0.401430  \n",
      "197                   1          0.001427       0.150000  \n",
      "364                   1          0.001427       0.150000  \n",
      "610                   1          0.001427       0.150000  \n"
     ]
    }
   ],
   "source": [
    "# Louvain\n",
    "query_louvain = \"\"\"CALL gds.louvain.stream('persons_events',{ relationshipWeightProperty: 'count' })\n",
    "YIELD nodeId, communityId, intermediateCommunityIds\n",
    "RETURN gds.util.asNode(nodeId).name AS name, communityId, intermediateCommunityIds\n",
    "ORDER BY name ASC\"\"\"\n",
    "com = graph.run(query_louvain).to_data_frame()\n",
    "\n",
    "#retrieve modularity\n",
    "mod = f\"\"\"CALL gds.louvain.write('persons_events', {{ writeProperty: 'community' }})\n",
    "YIELD modularity\"\"\"\n",
    "print(f\"Modularity: \\n\\n {graph.run(mod)}\")\n",
    "\n",
    "query_page_rank = \"\"\"CALL gds.pageRank.stream('persons_events', {\n",
    "  maxIterations: 20,\n",
    "  dampingFactor: 0.85,\n",
    "  relationshipWeightProperty: 'count'\n",
    "})\n",
    "YIELD nodeId, score\n",
    "with labels(gds.util.asNode(nodeId)) as label, gds.util.asNode(nodeId).name AS name, score\n",
    "RETURN name, score\n",
    "ORDER BY score DESC, name ASC;\"\"\"\n",
    "pr = graph.run(query_page_rank).to_data_frame()\n",
    "\n",
    "df = pd.merge(com, pr,on='name', how='inner')\n",
    "\n",
    "# group by communityId and calculate average score\n",
    "grouped = df.groupby('communityId').mean()\n",
    "\n",
    "# create a new column with top 25 names by score\n",
    "grouped['top25names'] = df.groupby('communityId').apply(lambda x: x.nlargest(25, 'score')['name'].tolist())\n",
    "\n",
    "# add a column of count of names\n",
    "grouped['name_count'] = df.groupby('communityId').count()['name']\n",
    "\n",
    "# add a column of % of total names\n",
    "grouped['percent_of_total'] = grouped['name_count'] / grouped['name_count'].sum()\n",
    "\n",
    "# add average score of the whole group\n",
    "grouped['average_score'] = df.groupby('communityId')['score'].mean()\n",
    "\n",
    "# order by average_score\n",
    "grouped.sort_values(by='average_score', ascending=False, inplace=True)\n",
    "\n",
    "print(grouped)"
   ]
  },
  {
   "attachments": {},
   "cell_type": "markdown",
   "id": "57095bbb",
   "metadata": {},
   "source": [
    "# 6. Most “intensive” chapters"
   ]
  },
  {
   "cell_type": "code",
   "execution_count": 17,
   "id": "8758d031",
   "metadata": {},
   "outputs": [
    {
     "name": "stdout",
     "output_type": "stream",
     "text": [
      "Most intensive chapters: \n",
      "\n",
      "   name     score\n",
      "0   20  5.464282\n",
      "1   29  4.112944\n",
      "2   28  4.110990\n",
      "3   26  3.650599\n",
      "4   38  3.599851\n",
      "5   30  3.050861\n",
      "6   32  2.675983\n",
      "7   39  2.668428\n",
      "8   19  2.450534\n",
      "9   72  2.406484\n"
     ]
    }
   ],
   "source": [
    "query = \"\"\"CALL gds.pageRank.stream('persons_events_chapters', {\n",
    "  maxIterations: 20,\n",
    "  dampingFactor: 0.85,\n",
    "  relationshipWeightProperty: 'count'\n",
    "})\n",
    "YIELD nodeId, score\n",
    "with labels(gds.util.asNode(nodeId)) as label, gds.util.asNode(nodeId).name AS name, score\n",
    "where 'CHAPTER' in label\n",
    "RETURN name, score\n",
    "ORDER BY score DESC, name ASC limit 10;\"\"\"\n",
    "\n",
    "df = graph.run(query).to_data_frame()\n",
    "print(f\"Most intensive chapters: \\n\\n {df}\")"
   ]
  },
  {
   "attachments": {},
   "cell_type": "markdown",
   "id": "6b84ab7b",
   "metadata": {},
   "source": [
    "# 7. Distribution of co occurrence between Yoni Netanyahu to other persons"
   ]
  },
  {
   "cell_type": "code",
   "execution_count": 18,
   "id": "0d9464df",
   "metadata": {},
   "outputs": [
    {
     "name": "stdout",
     "output_type": "stream",
     "text": [
      "Distribution of co occurrence between Yoni Netanyahu to other persons: \n",
      "\n",
      "                   name  number_of_co_occurence\n",
      "0       Iddo Netanyahu                      18\n",
      "1    Benzion Netanyahu                      14\n",
      "2         SHIMON PERES                      14\n",
      "3        Yitzhak Rabin                      14\n",
      "4       Sara Netanyahu                      11\n",
      "..                 ...                     ...\n",
      "461     Adolf Eichmann                       1\n",
      "462        George Ball                       1\n",
      "463         E. Housman                       1\n",
      "464    Ruth Rubenstein                       1\n",
      "465       Hanan Livneh                       1\n",
      "\n",
      "[466 rows x 2 columns]\n"
     ]
    }
   ],
   "source": [
    "query = \"\"\"MATCH (n1:PERSON)-[r:CO_OCCUR_WITH]->(n2:PERSON)\n",
    "        WHERE n1.name = 'Yoni Netanyahu' \n",
    "        return n2.name as name, r.count as number_of_co_occurence order by r.count desc\"\"\"\n",
    "\n",
    "df = graph.run(query).to_data_frame()\n",
    "print(f\"Distribution of co occurrence between Yoni Netanyahu to other persons: \\n\\n {df}\")"
   ]
  },
  {
   "cell_type": "markdown",
   "id": "9908bc41",
   "metadata": {},
   "source": [
    "# 8. Persons similarity"
   ]
  },
  {
   "cell_type": "code",
   "execution_count": 19,
   "id": "9d7b84df",
   "metadata": {},
   "outputs": [
    {
     "name": "stdout",
     "output_type": "stream",
     "text": [
      "Persons similarity: \n",
      "\n",
      "                    name1                     name2  similarity\n",
      "0             Paul Nitze          Elmo Bud Zumwalt    0.979167\n",
      "1            Peter Lubin             Elie Kedourie    0.977528\n",
      "2           Moshe Katsav                David Levy    0.976744\n",
      "3     Warren Christopher        Arthur Finkelstein    0.973333\n",
      "4    William Ormsby-Gore    Arthur Schlesinger Jr.    0.972222\n",
      "5          Jared Kushner            David Friedman    0.970588\n",
      "6             Leah Rabin              Aaron Miller    0.967742\n",
      "7         William Safire             Bernard Lewis    0.963636\n",
      "8          Yelena Bonner              Ahmed Jibril    0.962963\n",
      "9            Yossi Sarid       Alexander the Great    0.961538\n",
      "10          Yossi Beilin            Alexander Zeid    0.960784\n",
      "11  Yitzhak Itzik Molcho                  Al Buraq    0.959184\n",
      "12      Vladimir Nabokov                 Aldo Moro    0.958333\n",
      "13        Yaakov Amidror             Boyko Borisov    0.954545\n",
      "14         Ronald Lauder                 Abu Allah    0.947368\n",
      "15           Sleepy Joe.    Abdel Fattah al-Burhan    0.944444\n",
      "16          the Thin Man                 Ori Yogev    0.941176\n",
      "17            alte kaker                   Al Gore    0.939394\n",
      "18        Warren Buffett             Alex Ferguson    0.937500\n",
      "19             Zvi Marom          Amnon Goldenberg    0.935484\n",
      "20          Nancy Pelosi              Avshalom Kor    0.933333\n",
      "21        the Vilna Gaon             Binyamin Ronn    0.931034\n",
      "22         Zalman Shazar               Alex Davidi    0.928571\n",
      "23          Tony Blinken               Eyal Yifrah    0.923077\n",
      "24           Yossi Cohen            Alfred Dreyfus    0.920000\n",
      "25           Zohar Linik            Ahmad Shukeiri    0.913043\n",
      "26   William Ormsby-Gore                 Abba Eban    0.909091\n",
      "27           Ron Kampeas               Hiroo Onoda    0.904762\n",
      "28        Zachary Baumel  Aharon Mordechai Freeman    0.900000\n",
      "29         Zalman Shazar               Avi Dichter    0.896552\n",
      "30     [Pinchas] Bukhris                Amos Goren    0.894737\n",
      "31            Yoram Lass             Albert Bourla    0.888889\n",
      "32         Yaakov Neeman           Albert Einstein    0.882353\n",
      "33          Ramat Shlomo             David Axelrod    0.875000\n",
      "34      Shlomo Mordechai        Avichai Mandelblit    0.866667\n",
      "35           Yoram Cohen               Angel Gurra    0.857143\n",
      "36     Jeane Kirkpatrick            George Schultz    0.846847\n",
      "37            Xi Jinping            Adolf Eichmann    0.846154\n",
      "38  Dwight D. Eisenhower                Dan Rather    0.845238\n",
      "39        Yitzhak Shamir               Moshe Arens    0.836653\n"
     ]
    }
   ],
   "source": [
    "query = \"\"\"CALL gds.nodeSimilarity.stream('persons_events')\n",
    "            YIELD node1, node2, similarity\n",
    "            WITH gds.util.asNode(node1) as n1, gds.util.asNode(node2) as n2, similarity\n",
    "            WHERE \"PERSON\" in labels(n1) and \"PERSON\" in labels(n2)\n",
    "            UNWIND [[n1,n2],[n2,n1]] as x\n",
    "            RETURN DISTINCT max(x[0].name) as name1, min(x[1].name) as name2, similarity\n",
    "            ORDER BY similarity DESCENDING, name1, name2 limit 40\"\"\"\n",
    "df = graph.run(query).to_data_frame()\n",
    "print(f\"Persons similarity: \\n\\n {df}\")"
   ]
  },
  {
   "cell_type": "markdown",
   "id": "fd79adc8",
   "metadata": {},
   "source": [
    "# 9. Events similarity"
   ]
  },
  {
   "cell_type": "code",
   "execution_count": 20,
   "id": "5983536c",
   "metadata": {},
   "outputs": [
    {
     "name": "stdout",
     "output_type": "stream",
     "text": [
      "Events similarity: \n",
      "\n",
      "                                    name1                       name2  \\\n",
      "0                        post-Oslo flood         San Remo Conference   \n",
      "1                     Wannsee Conference            Green Revolution   \n",
      "2              Operation Northern Shield          Operation Guardian   \n",
      "3           the Zionist Congress of 1905  the First Zionist Congress   \n",
      "4                   The Syrian civil war                Lollapalooza   \n",
      "5   Jerusalem Day, an annual celebration       Guardian of the Walls   \n",
      "6                  the Arlosoroff Affair         San Remo Conference   \n",
      "7                        post-Oslo flood                        Oslo   \n",
      "8                        the Vietnam War     the Spanish Inquisition   \n",
      "9                            World War I                   Holocaust   \n",
      "10                 the Arlosoroff Affair     Madrid Peace Conference   \n",
      "11                           World War I   War of Independence (1948   \n",
      "12                       the Six-Day War   War of Independence (1948   \n",
      "13                       the Six-Day War                   Holocaust   \n",
      "14             War of Independence (1948                   Holocaust   \n",
      "\n",
      "    similarity  \n",
      "0     0.960784  \n",
      "1     0.933333  \n",
      "2     0.923077  \n",
      "3     0.920000  \n",
      "4     0.913043  \n",
      "5     0.866667  \n",
      "6     0.710145  \n",
      "7     0.662162  \n",
      "8     0.584906  \n",
      "9     0.508264  \n",
      "10    0.491379  \n",
      "11    0.452830  \n",
      "12    0.452128  \n",
      "13    0.450549  \n",
      "14    0.427160  \n"
     ]
    }
   ],
   "source": [
    "query = \"\"\"CALL gds.nodeSimilarity.stream('persons_events')\n",
    "            YIELD node1, node2, similarity\n",
    "            WITH gds.util.asNode(node1) as n1, gds.util.asNode(node2) as n2, similarity\n",
    "            WHERE \"EVENT\" in labels(n1) and \"EVENT\" in labels(n2)\n",
    "            UNWIND [[n1,n2],[n2,n1]] as x\n",
    "            RETURN DISTINCT max(x[0].name) as name1, min(x[1].name) as name2, similarity\n",
    "            ORDER BY similarity DESCENDING, name1, name2 limit 15\"\"\"\n",
    "df = graph.run(query).to_data_frame()\n",
    "print(f\"Events similarity: \\n\\n {df}\")"
   ]
  }
 ],
 "metadata": {
  "kernelspec": {
   "display_name": "Python 3 (ipykernel)",
   "language": "python",
   "name": "python3"
  },
  "language_info": {
   "codemirror_mode": {
    "name": "ipython",
    "version": 3
   },
   "file_extension": ".py",
   "mimetype": "text/x-python",
   "name": "python",
   "nbconvert_exporter": "python",
   "pygments_lexer": "ipython3",
   "version": "3.10.7"
  }
 },
 "nbformat": 4,
 "nbformat_minor": 5
}
